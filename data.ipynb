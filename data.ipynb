{
 "metadata": {
  "name": "data"
 },
 "nbformat": 3,
 "nbformat_minor": 0,
 "worksheets": [
  {
   "cells": [
    {
     "cell_type": "heading",
     "level": 2,
     "metadata": {},
     "source": "homework-02: recent-quakes"
    },
    {
     "cell_type": "heading",
     "level": 3,
     "metadata": {},
     "source": "step 1"
    },
    {
     "cell_type": "heading",
     "level": 4,
     "metadata": {},
     "source": "import packages and earthquake data"
    },
    {
     "cell_type": "code",
     "collapsed": false,
     "input": "import urllib\nimport json\nfrom pandas import read_csv",
     "language": "python",
     "metadata": {},
     "outputs": []
    },
    {
     "cell_type": "code",
     "collapsed": false,
     "input": "import pandas as pd\nfrom time import gmtime, strftime, strptime, ctime\nfrom cPickle import load, dump\nfrom pprint import pprint\nfrom datetime import date\nfrom datetime import datetime",
     "language": "python",
     "metadata": {},
     "outputs": []
    },
    {
     "cell_type": "code",
     "collapsed": false,
     "input": "#Locate earthquake data of interest from the USGS website: http://earthquake.usgs.gov/earthquakes/feed/v1.0/geojson.php\n\nurl_45w = 'http://earthquake.usgs.gov/earthquakes/feed/v1.0/summary/4.5_week.geojson' # earthquake data of magnitude 4.5+ that's been updated in the past 7 days\nurl_1w = 'http://earthquake.usgs.gov/earthquakes/feed/v1.0/summary/1.0_week.geojson' # earthquake data of magnitude 1.0+ that's been updated in the past 7 days\nurl_1h = 'http://earthquake.usgs.gov/earthquakes/feed/v1.0/summary/1.0_hour.geojson' # earthquake data of magnitude 1.0+ that's been updated in the past hour\n\ndata = json.loads(urllib.urlopen(url_1w).read()) # earthquake data of magnitude 1.0+, week increment",
     "language": "python",
     "metadata": {},
     "outputs": []
    },
    {
     "cell_type": "heading",
     "level": 3,
     "metadata": {},
     "source": "step 2"
    },
    {
     "cell_type": "heading",
     "level": 4,
     "metadata": {},
     "source": "produce a dataframe of earthquake data"
    },
    {
     "cell_type": "code",
     "collapsed": false,
     "input": "dataframe = pd.DataFrame(data.items())\ndataframe",
     "language": "python",
     "metadata": {},
     "outputs": [
      {
       "html": "<div style=\"max-height:1000px;max-width:1500px;overflow:auto;\">\n<table border=\"1\" class=\"dataframe\">\n  <thead>\n    <tr style=\"text-align: right;\">\n      <th></th>\n      <th>0</th>\n      <th>1</th>\n    </tr>\n  </thead>\n  <tbody>\n    <tr>\n      <th>0</th>\n      <td>     type</td>\n      <td>                                 FeatureCollection</td>\n    </tr>\n    <tr>\n      <th>1</th>\n      <td> features</td>\n      <td> [{u'geometry': {u'type': u'Point', u'coordinat...</td>\n    </tr>\n    <tr>\n      <th>2</th>\n      <td>     bbox</td>\n      <td> [-179.4843, -56.6339, -3.1, 179.0595, 66.7659,...</td>\n    </tr>\n    <tr>\n      <th>3</th>\n      <td> metadata</td>\n      <td> {u'status': 200, u'count': 1082, u'title': u'U...</td>\n    </tr>\n  </tbody>\n</table>\n</div>",
       "output_type": "pyout",
       "prompt_number": 161,
       "text": "          0                                                  1\n0      type                                  FeatureCollection\n1  features  [{u'geometry': {u'type': u'Point', u'coordinat...\n2      bbox  [-179.4843, -56.6339, -3.1, 179.0595, 66.7659,...\n3  metadata  {u'status': 200, u'count': 1082, u'title': u'U..."
      }
     ],
     "prompt_number": 161
    },
    {
     "cell_type": "code",
     "collapsed": false,
     "input": "print dataframe",
     "language": "python",
     "metadata": {},
     "outputs": [
      {
       "output_type": "stream",
       "stream": "stdout",
       "text": "          0                                                  1\n0      type                                  FeatureCollection\n1  features  [{u'geometry': {u'type': u'Point', u'coordinat...\n2      bbox  [-179.4843, -56.6339, -3.1, 179.0595, 66.7659,...\n3  metadata  {u'status': 200, u'count': 1082, u'title': u'U...\n"
      }
     ],
     "prompt_number": 162
    },
    {
     "cell_type": "code",
     "collapsed": false,
     "input": "earthquakes = dataframe[1][1]\nanEarthquake = earthquakes[1]\nprint earthquakes[1]",
     "language": "python",
     "metadata": {},
     "outputs": []
    },
    {
     "cell_type": "code",
     "collapsed": false,
     "input": "srcList = []\neqid = []\nversion = []\ndateTime = []\n\nlatList = []\nlonList = []\n\nmagList = []\nnst = []\nregion = []\n\ndef usgsTimeExtraction(earthquake, humanReadable = True):\n    \"\"\"Takes in an earthquake (dictionary) and extracts the time from it, in seconds since the epoch (float)\"\"\"\n    time = earthquake['properties']['time']\n    if humanReadable:\n        return usgsTimeConversion(time)\n    return time\n\ndef usgsTimeConversion(time):\n    \"\"\"Takes in the seconds since the epoch (float) and returns a human readable time.\"\"\"\n    humanReadableTime = gmtime(float(str(time)[0:10]))\n    return strftime(\"%a %b %d %H:%M:%S %Y\", humanReadableTime)",
     "language": "python",
     "metadata": {},
     "outputs": []
    },
    {
     "cell_type": "code",
     "collapsed": false,
     "input": "print ctime()\nprint usgsTimeExtraction(anEarthquake)",
     "language": "python",
     "metadata": {},
     "outputs": [
      {
       "output_type": "stream",
       "stream": "stdout",
       "text": "Mon Oct 21 01:48:36 2013\nMon Oct 21 08:25:06 2013\n"
      }
     ],
     "prompt_number": 163
    },
    {
     "cell_type": "code",
     "collapsed": false,
     "input": "for earthquake in earthquakes:\n    srcList.append(earthquake['properties']['sources'])\n    eqid.append(earthquake['properties']['code'])\n    version.append(1)\n    dateTime.append(usgsTimeConversion(earthquake['properties']['time']))\n    latList.append(earthquake['geometry']['coordinates'][0])\n    lonList.append(earthquake['geometry']['coordinates'][1])\n    magList.append(earthquake['properties']['mag'])\n    nst.append(earthquake['properties']['nst'])\n    region.append(earthquake['properties']['place'])\n\nearthquakeData = {'Source': src, 'Eqid': eqid, 'Version': version, 'Datetime': dateTime, 'Lat': lat, 'Lon': lon, 'Magnitude': mag, 'NST': nst, 'Region': region}",
     "language": "python",
     "metadata": {},
     "outputs": [],
     "prompt_number": 164
    },
    {
     "cell_type": "code",
     "collapsed": false,
     "input": "now = datetime.now()\ntimeStr = str(now.hour) + \":\" + str(now.minute) + \":\" + str(now.second)\ntimeZone = 'PST'\nname = 'earthquakeData'+ \"_\" + str(date.today()) + \"_\" + timeStr + \"_\" + timeZone + '.dict'\n\nprint timeStr\nprint timeZone\nprint name",
     "language": "python",
     "metadata": {},
     "outputs": [
      {
       "output_type": "stream",
       "stream": "stdout",
       "text": "1:48:43\nPST\nearthquakeData_2013-10-21_1:48:43_PST.dict\n"
      }
     ],
     "prompt_number": 165
    },
    {
     "cell_type": "code",
     "collapsed": false,
     "input": "with open(name, 'wb') as f:\n    dump(earthquakeData, f)",
     "language": "python",
     "metadata": {},
     "outputs": [],
     "prompt_number": 166
    },
    {
     "cell_type": "code",
     "collapsed": false,
     "input": "with open(name, 'rb') as f:\n    earthquakeData = load(f)",
     "language": "python",
     "metadata": {},
     "outputs": [],
     "prompt_number": 167
    },
    {
     "cell_type": "code",
     "collapsed": false,
     "input": "earthquakeData_dataframe = pd.DataFrame(earthquakeData)",
     "language": "python",
     "metadata": {},
     "outputs": [
      {
       "ename": "ValueError",
       "evalue": "arrays must all be same length",
       "output_type": "pyerr",
       "traceback": [
        "\u001b[0;31m---------------------------------------------------------------------------\u001b[0m\n\u001b[0;31mValueError\u001b[0m                                Traceback (most recent call last)",
        "\u001b[0;32m<ipython-input-168-3ae12451d744>\u001b[0m in \u001b[0;36m<module>\u001b[0;34m()\u001b[0m\n\u001b[0;32m----> 1\u001b[0;31m \u001b[0mearthquakeData_dataframe\u001b[0m \u001b[0;34m=\u001b[0m \u001b[0mpd\u001b[0m\u001b[0;34m.\u001b[0m\u001b[0mDataFrame\u001b[0m\u001b[0;34m(\u001b[0m\u001b[0mearthquakeData\u001b[0m\u001b[0;34m)\u001b[0m\u001b[0;34m\u001b[0m\u001b[0m\n\u001b[0m",
        "\u001b[0;32m/usr/lib/python2.7/dist-packages/pandas/core/frame.pyc\u001b[0m in \u001b[0;36m__init__\u001b[0;34m(self, data, index, columns, dtype, copy)\u001b[0m\n\u001b[1;32m    383\u001b[0m             \u001b[0mmgr\u001b[0m \u001b[0;34m=\u001b[0m \u001b[0mself\u001b[0m\u001b[0;34m.\u001b[0m\u001b[0m_init_mgr\u001b[0m\u001b[0;34m(\u001b[0m\u001b[0mdata\u001b[0m\u001b[0;34m,\u001b[0m \u001b[0mindex\u001b[0m\u001b[0;34m,\u001b[0m \u001b[0mcolumns\u001b[0m\u001b[0;34m,\u001b[0m \u001b[0mdtype\u001b[0m\u001b[0;34m=\u001b[0m\u001b[0mdtype\u001b[0m\u001b[0;34m,\u001b[0m \u001b[0mcopy\u001b[0m\u001b[0;34m=\u001b[0m\u001b[0mcopy\u001b[0m\u001b[0;34m)\u001b[0m\u001b[0;34m\u001b[0m\u001b[0m\n\u001b[1;32m    384\u001b[0m         \u001b[0;32melif\u001b[0m \u001b[0misinstance\u001b[0m\u001b[0;34m(\u001b[0m\u001b[0mdata\u001b[0m\u001b[0;34m,\u001b[0m \u001b[0mdict\u001b[0m\u001b[0;34m)\u001b[0m\u001b[0;34m:\u001b[0m\u001b[0;34m\u001b[0m\u001b[0m\n\u001b[0;32m--> 385\u001b[0;31m             \u001b[0mmgr\u001b[0m \u001b[0;34m=\u001b[0m \u001b[0mself\u001b[0m\u001b[0;34m.\u001b[0m\u001b[0m_init_dict\u001b[0m\u001b[0;34m(\u001b[0m\u001b[0mdata\u001b[0m\u001b[0;34m,\u001b[0m \u001b[0mindex\u001b[0m\u001b[0;34m,\u001b[0m \u001b[0mcolumns\u001b[0m\u001b[0;34m,\u001b[0m \u001b[0mdtype\u001b[0m\u001b[0;34m=\u001b[0m\u001b[0mdtype\u001b[0m\u001b[0;34m)\u001b[0m\u001b[0;34m\u001b[0m\u001b[0m\n\u001b[0m\u001b[1;32m    386\u001b[0m         \u001b[0;32melif\u001b[0m \u001b[0misinstance\u001b[0m\u001b[0;34m(\u001b[0m\u001b[0mdata\u001b[0m\u001b[0;34m,\u001b[0m \u001b[0mma\u001b[0m\u001b[0;34m.\u001b[0m\u001b[0mMaskedArray\u001b[0m\u001b[0;34m)\u001b[0m\u001b[0;34m:\u001b[0m\u001b[0;34m\u001b[0m\u001b[0m\n\u001b[1;32m    387\u001b[0m             \u001b[0mmask\u001b[0m \u001b[0;34m=\u001b[0m \u001b[0mma\u001b[0m\u001b[0;34m.\u001b[0m\u001b[0mgetmaskarray\u001b[0m\u001b[0;34m(\u001b[0m\u001b[0mdata\u001b[0m\u001b[0;34m)\u001b[0m\u001b[0;34m\u001b[0m\u001b[0m\n",
        "\u001b[0;32m/usr/lib/python2.7/dist-packages/pandas/core/frame.pyc\u001b[0m in \u001b[0;36m_init_dict\u001b[0;34m(self, data, index, columns, dtype)\u001b[0m\n\u001b[1;32m    515\u001b[0m \u001b[0;34m\u001b[0m\u001b[0m\n\u001b[1;32m    516\u001b[0m         return _arrays_to_mgr(arrays, data_names, index, columns,\n\u001b[0;32m--> 517\u001b[0;31m                               dtype=dtype)\n\u001b[0m\u001b[1;32m    518\u001b[0m \u001b[0;34m\u001b[0m\u001b[0m\n\u001b[1;32m    519\u001b[0m     def _init_ndarray(self, values, index, columns, dtype=None,\n",
        "\u001b[0;32m/usr/lib/python2.7/dist-packages/pandas/core/frame.pyc\u001b[0m in \u001b[0;36m_arrays_to_mgr\u001b[0;34m(arrays, arr_names, index, columns, dtype)\u001b[0m\n\u001b[1;32m   5343\u001b[0m     \u001b[0;31m# figure out the index, if necessary\u001b[0m\u001b[0;34m\u001b[0m\u001b[0;34m\u001b[0m\u001b[0m\n\u001b[1;32m   5344\u001b[0m     \u001b[0;32mif\u001b[0m \u001b[0mindex\u001b[0m \u001b[0;32mis\u001b[0m \u001b[0mNone\u001b[0m\u001b[0;34m:\u001b[0m\u001b[0;34m\u001b[0m\u001b[0m\n\u001b[0;32m-> 5345\u001b[0;31m         \u001b[0mindex\u001b[0m \u001b[0;34m=\u001b[0m \u001b[0mextract_index\u001b[0m\u001b[0;34m(\u001b[0m\u001b[0marrays\u001b[0m\u001b[0;34m)\u001b[0m\u001b[0;34m\u001b[0m\u001b[0m\n\u001b[0m\u001b[1;32m   5346\u001b[0m     \u001b[0;32melse\u001b[0m\u001b[0;34m:\u001b[0m\u001b[0;34m\u001b[0m\u001b[0m\n\u001b[1;32m   5347\u001b[0m         \u001b[0mindex\u001b[0m \u001b[0;34m=\u001b[0m \u001b[0m_ensure_index\u001b[0m\u001b[0;34m(\u001b[0m\u001b[0mindex\u001b[0m\u001b[0;34m)\u001b[0m\u001b[0;34m\u001b[0m\u001b[0m\n",
        "\u001b[0;32m/usr/lib/python2.7/dist-packages/pandas/core/frame.pyc\u001b[0m in \u001b[0;36mextract_index\u001b[0;34m(data)\u001b[0m\n\u001b[1;32m   5395\u001b[0m             \u001b[0mlengths\u001b[0m \u001b[0;34m=\u001b[0m \u001b[0mlist\u001b[0m\u001b[0;34m(\u001b[0m\u001b[0mset\u001b[0m\u001b[0;34m(\u001b[0m\u001b[0mraw_lengths\u001b[0m\u001b[0;34m)\u001b[0m\u001b[0;34m)\u001b[0m\u001b[0;34m\u001b[0m\u001b[0m\n\u001b[1;32m   5396\u001b[0m             \u001b[0;32mif\u001b[0m \u001b[0mlen\u001b[0m\u001b[0;34m(\u001b[0m\u001b[0mlengths\u001b[0m\u001b[0;34m)\u001b[0m \u001b[0;34m>\u001b[0m \u001b[0;36m1\u001b[0m\u001b[0;34m:\u001b[0m\u001b[0;34m\u001b[0m\u001b[0m\n\u001b[0;32m-> 5397\u001b[0;31m                 \u001b[0;32mraise\u001b[0m \u001b[0mValueError\u001b[0m\u001b[0;34m(\u001b[0m\u001b[0;34m'arrays must all be same length'\u001b[0m\u001b[0;34m)\u001b[0m\u001b[0;34m\u001b[0m\u001b[0m\n\u001b[0m\u001b[1;32m   5398\u001b[0m \u001b[0;34m\u001b[0m\u001b[0m\n\u001b[1;32m   5399\u001b[0m             \u001b[0;32mif\u001b[0m \u001b[0mhave_dicts\u001b[0m\u001b[0;34m:\u001b[0m\u001b[0;34m\u001b[0m\u001b[0m\n",
        "\u001b[0;31mValueError\u001b[0m: arrays must all be same length"
       ]
      }
     ],
     "prompt_number": 168
    },
    {
     "cell_type": "code",
     "collapsed": false,
     "input": "earthquakeData_dataframe[0:10]",
     "language": "python",
     "metadata": {},
     "outputs": []
    },
    {
     "cell_type": "heading",
     "level": 3,
     "metadata": {},
     "source": "step 3"
    },
    {
     "cell_type": "heading",
     "level": 4,
     "metadata": {},
     "source": "visualizations"
    },
    {
     "cell_type": "heading",
     "level": 4,
     "metadata": {},
     "source": "*** these are other people's - to be seen as examples of what can be done, not what we are doing exactly.  you both should fix something interesting that maps the depth, magnitude, and location of the these earthquakes. maybe we can make darker colored dots for deeper quakes and larger dots for higher magnitude placed on a state map. ***"
    },
    {
     "cell_type": "heading",
     "level": 5,
     "metadata": {},
     "source": "a. group #2's mapping program"
    },
    {
     "cell_type": "code",
     "collapsed": false,
     "input": "",
     "language": "python",
     "metadata": {},
     "outputs": []
    },
    {
     "cell_type": "heading",
     "level": 5,
     "metadata": {},
     "source": "b. ACulich's mapping program"
    },
    {
     "cell_type": "code",
     "collapsed": false,
     "input": "clean_dataframe = dataframe.dropna(axis=0, how='any')\nclean_dataframe[0:3]",
     "language": "python",
     "metadata": {},
     "outputs": []
    },
    {
     "cell_type": "code",
     "collapsed": false,
     "input": "alaska = clean_dataframe[clean_dataframe.Src == 'ak']\nalaska[0:10]",
     "language": "python",
     "metadata": {},
     "outputs": []
    },
    {
     "cell_type": "code",
     "collapsed": false,
     "input": "from mpl_toolkits.basemap import Basemap\n\ndef plot_quakes(quakes):\n    basemap = Basemap(llcrnrlon=-180,llcrnrlat=50.,\n                urcrnrlon=-120.,urcrnrlat=72,\n                resolution='l',area_thresh=1000.,projection='merc',\n                lat_0=62.9540,lon_0=-149.2697)\n    basemap.drawcoastlines()\n    basemap.drawcountries()\n    basemap.fillcontinents(color='coral',lake_color='blue')\n    basemap.drawmapboundary(fill_color='aqua')\n    x, y = basemap(quakes.Lon, quakes.Lat)\n    basemap.plot(x, y, 'k.')\n    return basemap\n\nplot_quakes(alaska)",
     "language": "python",
     "metadata": {},
     "outputs": []
    },
    {
     "cell_type": "heading",
     "level": 5,
     "metadata": {},
     "source": "c. kqdtran's mapping program"
    },
    {
     "cell_type": "code",
     "collapsed": false,
     "input": "features = dataframe[1].values[1]\npprint(features)",
     "language": "python",
     "metadata": {},
     "outputs": []
    },
    {
     "cell_type": "code",
     "collapsed": false,
     "input": "lonList = []\nlatList = []\naltList = []\nmagList = []\nsrcList = []\nplaceList = []\ntimeList = []\n\nfor item in features:\n    geometry = item['geometry']\n    properties = item['properties']\n    \n    lonList.append(geometry['coordinates'][0])\n    latList.append(geometry['coordinates'][1])\n    altList.append(geometry['coordinates'][2])\n\n    srcList.append(properties['sources'])\n    placeList.append(properties['place'])\n    timeList.append(properties['time'])\n    magList.append(properties['mag'])",
     "language": "python",
     "metadata": {},
     "outputs": []
    },
    {
     "cell_type": "code",
     "collapsed": false,
     "input": "allQuakes = {\n    'src': srcList,\n    'time': timeList,\n    'place': placeList,\n    'longitude': lonList,\n    'latitude': latList,\n    'altitude': altList,\n    'magnitude': magList }",
     "language": "python",
     "metadata": {},
     "outputs": []
    },
    {
     "cell_type": "code",
     "collapsed": false,
     "input": "allQuakes",
     "language": "python",
     "metadata": {},
     "outputs": []
    },
    {
     "cell_type": "code",
     "collapsed": false,
     "input": "with open('quakes-' + str(data.today()) + '.dict', 'wb') as f:\n    dump(allQuakes, f)",
     "language": "python",
     "metadata": {},
     "outputs": []
    },
    {
     "cell_type": "code",
     "collapsed": false,
     "input": "with open('quakes_2013-10-22.dict', 'rb') as f:\n    allQuakes = load(f)",
     "language": "python",
     "metadata": {},
     "outputs": []
    },
    {
     "cell_type": "code",
     "collapsed": false,
     "input": "allQuakes_dataframe = pd.DataFrame(allQuakes)\nallQuakes_dataframe",
     "language": "python",
     "metadata": {},
     "outputs": []
    },
    {
     "cell_type": "code",
     "collapsed": false,
     "input": "import folium\nimport requests\nimport random",
     "language": "python",
     "metadata": {},
     "outputs": []
    },
    {
     "cell_type": "code",
     "collapsed": false,
     "input": "def getCurrentLocation(address):\n    data = {\n        'address': address,\n        'sensor': 'false' }\n    r = requests.get(\"http://maps.googleapis.com/maps/api/geocode/json?\", params = data)\n    result = r.json()\n    \n    pprint(result)\n    \n    loc = result['results'][0]['geometry']['location']\n    return loc['at'], loc['lng']",
     "language": "python",
     "metadata": {},
     "outputs": []
    },
    {
     "cell_type": "code",
     "collapsed": false,
     "input": "address = '101 Sproul Hall, Berkeley, CA 94704'\ncurrentLat, currentLon = getCurrentLocation(address)",
     "language": "python",
     "metadata": {},
     "outputs": []
    },
    {
     "cell_type": "code",
     "collapsed": false,
     "input": "import Tkinter",
     "language": "python",
     "metadata": {},
     "outputs": []
    },
    {
     "cell_type": "code",
     "collapsed": false,
     "input": "r = lambda: random.randint(0,255)\nroot = Tkinter.Tk()\nscreenWidth = root.winfo_screenwidth()\nscreenHeight = root.winfo_screenheight()",
     "language": "python",
     "metadata": {},
     "outputs": []
    },
    {
     "cell_type": "code",
     "collapsed": false,
     "input": "map  = folium.Map(location = [currentLat, currentLon], width = screenWidth, height = screenHeight, zoom_start = 3)",
     "language": "python",
     "metadata": {},
     "outputs": []
    },
    {
     "cell_type": "code",
     "collapsed": false,
     "input": "map",
     "language": "python",
     "metadata": {},
     "outputs": []
    },
    {
     "cell_type": "code",
     "collapsed": false,
     "input": "for i in range(len(df)):\n    lat = df.at[i, 'latitude']\n    lon = df.at[i, 'longitude']\n    mag = df.at[i, 'magnitude']\n    place = df.at[i, 'place']\n    color = '#%02X%02X%02X' % (r(),r(),r())\n    map.circle_marker(location=[lat, lon], popup=str(place), radius=mag*25000, line_color=color, fill_color=color)",
     "language": "python",
     "metadata": {},
     "outputs": []
    },
    {
     "cell_type": "code",
     "collapsed": false,
     "input": "map.create_map(path='map.html')",
     "language": "python",
     "metadata": {},
     "outputs": []
    },
    {
     "cell_type": "heading",
     "level": 5,
     "metadata": {},
     "source": "d. j-zhang's mapping program"
    },
    {
     "cell_type": "code",
     "collapsed": false,
     "input": "dataframe[1][1][0]\n\nearthquakes = []\n\nfor fields in dataframe[1][1]:\n\n    src = fields['properties']['net']\n    eqid = fields['properties']['code']\n    datetime = fields['properties']['time']\n    lon = fields['geometry']['coordinates'][0]\n    lat = fields['geometry']['coordinates'][1]\n    mag = fields['properties']['mag']\n    depth = fields['geometry']['coordinates'][2]\n    nst = fields['properties']['nst']\n    place = fields['properties']['place']\n    \n    earthquake = []\n    earthquake.append(src)\n    earthquake.append(eqid)\n    earthquake.append(datetime)\n    earthquake.append(lat)\n    earthquake.append(lon)\n    earthquake.append(mag)\n    earthquake.append(depth)\n    earthquake.append(nst)\n    earthquake.append(place)\n    earthquakes.append(earthquake)\n\nearthquakes",
     "language": "python",
     "metadata": {},
     "outputs": []
    },
    {
     "cell_type": "code",
     "collapsed": false,
     "input": "dataframe = pd.DataFrame(np.array(earthquakes), columns = ['Src','Eqid','Datetime','Lat','Lon','Mag','Depth','Nst','Place'])\ndataframe[0:100]\n\ncalifornia = dataframe[dataframe.Src=='ci']\ncalifornia[0:5]\nprint california.Lon[0:5]\ncalifornia.Lat[0:5]\n\nfrom mpl_toolkits.basemap import Basemap\n\ndef plot_quakes(quakes):\n    m = Basemap(llcrnrlon=-124.960938,llcrnrlat=41.956070,\n                urcrnrlon=-114.062500,urcrnrlat=32.236792,\n                resolution='l',area_thresh=1000.,projection='merc',\n                lat_0=37.147894,lon_0=-119.599609)\n    m.drawcoastlines()\n    m.drawcountries()\n    m.fillcontinents(color='coral',lake_color='blue')\n    m.drawmapboundary(fill_color='aqua')\n    x, y = m(quakes.Lon, quakes.Lat)\n    m.plot(x, y, 'k.')\n    return m\n\nplot_quakes(california)",
     "language": "python",
     "metadata": {},
     "outputs": []
    },
    {
     "cell_type": "code",
     "collapsed": false,
     "input": "",
     "language": "python",
     "metadata": {},
     "outputs": []
    }
   ],
   "metadata": {}
  }
 ]
}